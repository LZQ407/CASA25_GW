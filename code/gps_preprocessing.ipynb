{
 "cells": [
  {
   "cell_type": "markdown",
   "metadata": {
    "id": "Zltw-fTD6xkc"
   },
   "source": [
    "**INSTALL DUCKDB AND CONFIGURE IT**"
   ]
  },
  {
   "cell_type": "code",
   "execution_count": 1,
   "metadata": {
    "colab": {
     "base_uri": "https://localhost:8080/"
    },
    "collapsed": true,
    "executionInfo": {
     "elapsed": 20712,
     "status": "ok",
     "timestamp": 1742325612761,
     "user": {
      "displayName": "",
      "userId": ""
     },
     "user_tz": 0
    },
    "id": "DZmltVMB3V3e",
    "outputId": "893e5639-7ba1-4136-b79b-620db156263f"
   },
   "outputs": [
    {
     "name": "stdout",
     "output_type": "stream",
     "text": [
      "Requirement already satisfied: duckdb in c:\\users\\fiorella\\anaconda3\\envs\\urbsim\\lib\\site-packages (1.2.1)\n",
      "Requirement already satisfied: duckdb-engine in c:\\users\\fiorella\\anaconda3\\envs\\urbsim\\lib\\site-packages (0.15.0)\n",
      "Requirement already satisfied: jupysql in c:\\users\\fiorella\\anaconda3\\envs\\urbsim\\lib\\site-packages (0.11.0)\n",
      "Requirement already satisfied: packaging>=21 in c:\\users\\fiorella\\anaconda3\\envs\\urbsim\\lib\\site-packages (from duckdb-engine) (24.2)\n",
      "Requirement already satisfied: sqlalchemy>=1.3.22 in c:\\users\\fiorella\\anaconda3\\envs\\urbsim\\lib\\site-packages (from duckdb-engine) (2.0.39)\n",
      "Requirement already satisfied: prettytable>=3.12.0 in c:\\users\\fiorella\\anaconda3\\envs\\urbsim\\lib\\site-packages (from jupysql) (3.15.1)\n",
      "Requirement already satisfied: sqlparse in c:\\users\\fiorella\\anaconda3\\envs\\urbsim\\lib\\site-packages (from jupysql) (0.5.3)\n",
      "Requirement already satisfied: ipython-genutils>=0.1.0 in c:\\users\\fiorella\\anaconda3\\envs\\urbsim\\lib\\site-packages (from jupysql) (0.2.0)\n",
      "Requirement already satisfied: jinja2 in c:\\users\\fiorella\\anaconda3\\envs\\urbsim\\lib\\site-packages (from jupysql) (3.1.5)\n",
      "Requirement already satisfied: sqlglot>=11.3.7 in c:\\users\\fiorella\\anaconda3\\envs\\urbsim\\lib\\site-packages (from jupysql) (26.11.1)\n",
      "Requirement already satisfied: jupysql-plugin>=0.4.2 in c:\\users\\fiorella\\anaconda3\\envs\\urbsim\\lib\\site-packages (from jupysql) (0.4.5)\n",
      "Requirement already satisfied: ploomber-core>=0.2.7 in c:\\users\\fiorella\\anaconda3\\envs\\urbsim\\lib\\site-packages (from jupysql) (0.2.26)\n",
      "Requirement already satisfied: pyyaml in c:\\users\\fiorella\\anaconda3\\envs\\urbsim\\lib\\site-packages (from ploomber-core>=0.2.7->jupysql) (6.0.2)\n",
      "Requirement already satisfied: posthog in c:\\users\\fiorella\\anaconda3\\envs\\urbsim\\lib\\site-packages (from ploomber-core>=0.2.7->jupysql) (3.21.0)\n",
      "Requirement already satisfied: wcwidth in c:\\users\\fiorella\\anaconda3\\envs\\urbsim\\lib\\site-packages (from prettytable>=3.12.0->jupysql) (0.2.13)\n",
      "Requirement already satisfied: greenlet!=0.4.17 in c:\\users\\fiorella\\anaconda3\\envs\\urbsim\\lib\\site-packages (from sqlalchemy>=1.3.22->duckdb-engine) (3.1.1)\n",
      "Requirement already satisfied: typing-extensions>=4.6.0 in c:\\users\\fiorella\\anaconda3\\envs\\urbsim\\lib\\site-packages (from sqlalchemy>=1.3.22->duckdb-engine) (4.12.2)\n",
      "Requirement already satisfied: MarkupSafe>=2.0 in c:\\users\\fiorella\\anaconda3\\envs\\urbsim\\lib\\site-packages (from jinja2->jupysql) (3.0.2)\n",
      "Requirement already satisfied: requests<3.0,>=2.7 in c:\\users\\fiorella\\anaconda3\\envs\\urbsim\\lib\\site-packages (from posthog->ploomber-core>=0.2.7->jupysql) (2.32.3)\n",
      "Requirement already satisfied: six>=1.5 in c:\\users\\fiorella\\anaconda3\\envs\\urbsim\\lib\\site-packages (from posthog->ploomber-core>=0.2.7->jupysql) (1.17.0)\n",
      "Requirement already satisfied: monotonic>=1.5 in c:\\users\\fiorella\\anaconda3\\envs\\urbsim\\lib\\site-packages (from posthog->ploomber-core>=0.2.7->jupysql) (1.6)\n",
      "Requirement already satisfied: backoff>=1.10.0 in c:\\users\\fiorella\\anaconda3\\envs\\urbsim\\lib\\site-packages (from posthog->ploomber-core>=0.2.7->jupysql) (2.2.1)\n",
      "Requirement already satisfied: python-dateutil>2.1 in c:\\users\\fiorella\\anaconda3\\envs\\urbsim\\lib\\site-packages (from posthog->ploomber-core>=0.2.7->jupysql) (2.9.0.post0)\n",
      "Requirement already satisfied: distro>=1.5.0 in c:\\users\\fiorella\\anaconda3\\envs\\urbsim\\lib\\site-packages (from posthog->ploomber-core>=0.2.7->jupysql) (1.9.0)\n",
      "Requirement already satisfied: charset_normalizer<4,>=2 in c:\\users\\fiorella\\anaconda3\\envs\\urbsim\\lib\\site-packages (from requests<3.0,>=2.7->posthog->ploomber-core>=0.2.7->jupysql) (3.4.1)\n",
      "Requirement already satisfied: idna<4,>=2.5 in c:\\users\\fiorella\\anaconda3\\envs\\urbsim\\lib\\site-packages (from requests<3.0,>=2.7->posthog->ploomber-core>=0.2.7->jupysql) (3.10)\n",
      "Requirement already satisfied: urllib3<3,>=1.21.1 in c:\\users\\fiorella\\anaconda3\\envs\\urbsim\\lib\\site-packages (from requests<3.0,>=2.7->posthog->ploomber-core>=0.2.7->jupysql) (2.3.0)\n",
      "Requirement already satisfied: certifi>=2017.4.17 in c:\\users\\fiorella\\anaconda3\\envs\\urbsim\\lib\\site-packages (from requests<3.0,>=2.7->posthog->ploomber-core>=0.2.7->jupysql) (2024.12.14)\n",
      "Note: you may need to restart the kernel to use updated packages.\n",
      "Requirement already satisfied: leafmap in c:\\users\\fiorella\\anaconda3\\envs\\urbsim\\lib\\site-packages (0.42.13)\n",
      "Requirement already satisfied: anywidget in c:\\users\\fiorella\\anaconda3\\envs\\urbsim\\lib\\site-packages (from leafmap) (0.9.16)\n",
      "Requirement already satisfied: bqplot in c:\\users\\fiorella\\anaconda3\\envs\\urbsim\\lib\\site-packages (from leafmap) (0.12.44)\n",
      "Requirement already satisfied: colour in c:\\users\\fiorella\\anaconda3\\envs\\urbsim\\lib\\site-packages (from leafmap) (0.1.5)\n",
      "Requirement already satisfied: duckdb in c:\\users\\fiorella\\anaconda3\\envs\\urbsim\\lib\\site-packages (from leafmap) (1.2.1)\n",
      "Requirement already satisfied: folium in c:\\users\\fiorella\\anaconda3\\envs\\urbsim\\lib\\site-packages (from leafmap) (0.19.4)\n",
      "Requirement already satisfied: gdown in c:\\users\\fiorella\\anaconda3\\envs\\urbsim\\lib\\site-packages (from leafmap) (5.2.0)\n",
      "Requirement already satisfied: geojson in c:\\users\\fiorella\\anaconda3\\envs\\urbsim\\lib\\site-packages (from leafmap) (3.2.0)\n",
      "Requirement already satisfied: ipyevents in c:\\users\\fiorella\\anaconda3\\envs\\urbsim\\lib\\site-packages (from leafmap) (2.0.2)\n",
      "Requirement already satisfied: ipyfilechooser in c:\\users\\fiorella\\anaconda3\\envs\\urbsim\\lib\\site-packages (from leafmap) (0.6.0)\n",
      "Requirement already satisfied: ipyleaflet in c:\\users\\fiorella\\anaconda3\\envs\\urbsim\\lib\\site-packages (from leafmap) (0.19.2)\n",
      "Requirement already satisfied: ipyvuetify in c:\\users\\fiorella\\anaconda3\\envs\\urbsim\\lib\\site-packages (from leafmap) (1.11.1)\n",
      "Requirement already satisfied: ipywidgets in c:\\users\\fiorella\\anaconda3\\envs\\urbsim\\lib\\site-packages (from leafmap) (8.1.5)\n",
      "Requirement already satisfied: matplotlib in c:\\users\\fiorella\\anaconda3\\envs\\urbsim\\lib\\site-packages (from leafmap) (3.10.0)\n",
      "Requirement already satisfied: numpy in c:\\users\\fiorella\\anaconda3\\envs\\urbsim\\lib\\site-packages (from leafmap) (2.0.2)\n",
      "Requirement already satisfied: pandas in c:\\users\\fiorella\\anaconda3\\envs\\urbsim\\lib\\site-packages (from leafmap) (2.2.3)\n",
      "Requirement already satisfied: plotly in c:\\users\\fiorella\\anaconda3\\envs\\urbsim\\lib\\site-packages (from leafmap) (6.0.0)\n",
      "Requirement already satisfied: psutil in c:\\users\\fiorella\\anaconda3\\envs\\urbsim\\lib\\site-packages (from leafmap) (6.1.1)\n",
      "Requirement already satisfied: pyshp in c:\\users\\fiorella\\anaconda3\\envs\\urbsim\\lib\\site-packages (from leafmap) (2.3.1)\n",
      "Requirement already satisfied: pystac-client in c:\\users\\fiorella\\anaconda3\\envs\\urbsim\\lib\\site-packages (from leafmap) (0.8.6)\n",
      "Requirement already satisfied: python-box in c:\\users\\fiorella\\anaconda3\\envs\\urbsim\\lib\\site-packages (from leafmap) (7.3.2)\n",
      "Requirement already satisfied: scooby in c:\\users\\fiorella\\anaconda3\\envs\\urbsim\\lib\\site-packages (from leafmap) (0.10.0)\n",
      "Requirement already satisfied: whiteboxgui in c:\\users\\fiorella\\anaconda3\\envs\\urbsim\\lib\\site-packages (from leafmap) (2.3.0)\n",
      "Requirement already satisfied: xyzservices in c:\\users\\fiorella\\anaconda3\\envs\\urbsim\\lib\\site-packages (from leafmap) (2024.9.0)\n",
      "Requirement already satisfied: psygnal>=0.8.1 in c:\\users\\fiorella\\anaconda3\\envs\\urbsim\\lib\\site-packages (from anywidget->leafmap) (0.12.0)\n",
      "Requirement already satisfied: typing-extensions>=4.2.0 in c:\\users\\fiorella\\anaconda3\\envs\\urbsim\\lib\\site-packages (from anywidget->leafmap) (4.12.2)\n",
      "Requirement already satisfied: comm>=0.1.3 in c:\\users\\fiorella\\anaconda3\\envs\\urbsim\\lib\\site-packages (from ipywidgets->leafmap) (0.2.2)\n",
      "Requirement already satisfied: ipython>=6.1.0 in c:\\users\\fiorella\\anaconda3\\envs\\urbsim\\lib\\site-packages (from ipywidgets->leafmap) (8.31.0)\n",
      "Requirement already satisfied: traitlets>=4.3.1 in c:\\users\\fiorella\\anaconda3\\envs\\urbsim\\lib\\site-packages (from ipywidgets->leafmap) (5.14.3)\n",
      "Requirement already satisfied: widgetsnbextension~=4.0.12 in c:\\users\\fiorella\\anaconda3\\envs\\urbsim\\lib\\site-packages (from ipywidgets->leafmap) (4.0.13)\n",
      "Requirement already satisfied: jupyterlab_widgets~=3.0.12 in c:\\users\\fiorella\\anaconda3\\envs\\urbsim\\lib\\site-packages (from ipywidgets->leafmap) (3.0.13)\n",
      "Requirement already satisfied: traittypes>=0.0.6 in c:\\users\\fiorella\\anaconda3\\envs\\urbsim\\lib\\site-packages (from bqplot->leafmap) (0.2.1)\n",
      "Requirement already satisfied: python-dateutil>=2.8.2 in c:\\users\\fiorella\\anaconda3\\envs\\urbsim\\lib\\site-packages (from pandas->leafmap) (2.9.0.post0)\n",
      "Requirement already satisfied: pytz>=2020.1 in c:\\users\\fiorella\\anaconda3\\envs\\urbsim\\lib\\site-packages (from pandas->leafmap) (2024.1)\n",
      "Requirement already satisfied: tzdata>=2022.7 in c:\\users\\fiorella\\anaconda3\\envs\\urbsim\\lib\\site-packages (from pandas->leafmap) (2024.2)\n",
      "Requirement already satisfied: branca>=0.6.0 in c:\\users\\fiorella\\anaconda3\\envs\\urbsim\\lib\\site-packages (from folium->leafmap) (0.8.1)\n",
      "Requirement already satisfied: jinja2>=2.9 in c:\\users\\fiorella\\anaconda3\\envs\\urbsim\\lib\\site-packages (from folium->leafmap) (3.1.5)\n",
      "Requirement already satisfied: requests in c:\\users\\fiorella\\anaconda3\\envs\\urbsim\\lib\\site-packages (from folium->leafmap) (2.32.3)\n",
      "Requirement already satisfied: beautifulsoup4 in c:\\users\\fiorella\\anaconda3\\envs\\urbsim\\lib\\site-packages (from gdown->leafmap) (4.12.3)\n",
      "Requirement already satisfied: filelock in c:\\users\\fiorella\\anaconda3\\envs\\urbsim\\lib\\site-packages (from gdown->leafmap) (3.18.0)\n",
      "Requirement already satisfied: tqdm in c:\\users\\fiorella\\anaconda3\\envs\\urbsim\\lib\\site-packages (from gdown->leafmap) (4.67.1)\n",
      "Requirement already satisfied: jupyter-leaflet<0.20,>=0.19 in c:\\users\\fiorella\\anaconda3\\envs\\urbsim\\lib\\site-packages (from ipyleaflet->leafmap) (0.19.2)\n",
      "Requirement already satisfied: ipyvue<2,>=1.7 in c:\\users\\fiorella\\anaconda3\\envs\\urbsim\\lib\\site-packages (from ipyvuetify->leafmap) (1.11.2)\n",
      "Requirement already satisfied: contourpy>=1.0.1 in c:\\users\\fiorella\\anaconda3\\envs\\urbsim\\lib\\site-packages (from matplotlib->leafmap) (1.3.1)\n",
      "Requirement already satisfied: cycler>=0.10 in c:\\users\\fiorella\\anaconda3\\envs\\urbsim\\lib\\site-packages (from matplotlib->leafmap) (0.12.1)\n",
      "Requirement already satisfied: fonttools>=4.22.0 in c:\\users\\fiorella\\anaconda3\\envs\\urbsim\\lib\\site-packages (from matplotlib->leafmap) (4.55.3)\n",
      "Requirement already satisfied: kiwisolver>=1.3.1 in c:\\users\\fiorella\\anaconda3\\envs\\urbsim\\lib\\site-packages (from matplotlib->leafmap) (1.4.8)\n",
      "Requirement already satisfied: packaging>=20.0 in c:\\users\\fiorella\\anaconda3\\envs\\urbsim\\lib\\site-packages (from matplotlib->leafmap) (24.2)\n",
      "Requirement already satisfied: pillow>=8 in c:\\users\\fiorella\\anaconda3\\envs\\urbsim\\lib\\site-packages (from matplotlib->leafmap) (11.1.0)\n",
      "Requirement already satisfied: pyparsing>=2.3.1 in c:\\users\\fiorella\\anaconda3\\envs\\urbsim\\lib\\site-packages (from matplotlib->leafmap) (3.2.1)\n",
      "Requirement already satisfied: narwhals>=1.15.1 in c:\\users\\fiorella\\anaconda3\\envs\\urbsim\\lib\\site-packages (from plotly->leafmap) (1.24.1)\n",
      "Requirement already satisfied: pystac>=1.10.0 in c:\\users\\fiorella\\anaconda3\\envs\\urbsim\\lib\\site-packages (from pystac[validation]>=1.10.0->pystac-client->leafmap) (1.12.2)\n",
      "Requirement already satisfied: ipytree in c:\\users\\fiorella\\anaconda3\\envs\\urbsim\\lib\\site-packages (from whiteboxgui->leafmap) (0.2.2)\n",
      "Requirement already satisfied: whitebox in c:\\users\\fiorella\\anaconda3\\envs\\urbsim\\lib\\site-packages (from whiteboxgui->leafmap) (2.3.6)\n",
      "Requirement already satisfied: colorama in c:\\users\\fiorella\\anaconda3\\envs\\urbsim\\lib\\site-packages (from ipython>=6.1.0->ipywidgets->leafmap) (0.4.6)\n",
      "Requirement already satisfied: decorator in c:\\users\\fiorella\\anaconda3\\envs\\urbsim\\lib\\site-packages (from ipython>=6.1.0->ipywidgets->leafmap) (5.1.1)\n",
      "Requirement already satisfied: jedi>=0.16 in c:\\users\\fiorella\\anaconda3\\envs\\urbsim\\lib\\site-packages (from ipython>=6.1.0->ipywidgets->leafmap) (0.19.2)\n",
      "Requirement already satisfied: matplotlib-inline in c:\\users\\fiorella\\anaconda3\\envs\\urbsim\\lib\\site-packages (from ipython>=6.1.0->ipywidgets->leafmap) (0.1.7)\n",
      "Requirement already satisfied: prompt_toolkit<3.1.0,>=3.0.41 in c:\\users\\fiorella\\anaconda3\\envs\\urbsim\\lib\\site-packages (from ipython>=6.1.0->ipywidgets->leafmap) (3.0.48)\n",
      "Requirement already satisfied: pygments>=2.4.0 in c:\\users\\fiorella\\anaconda3\\envs\\urbsim\\lib\\site-packages (from ipython>=6.1.0->ipywidgets->leafmap) (2.19.1)\n",
      "Requirement already satisfied: stack_data in c:\\users\\fiorella\\anaconda3\\envs\\urbsim\\lib\\site-packages (from ipython>=6.1.0->ipywidgets->leafmap) (0.6.3)\n",
      "Requirement already satisfied: MarkupSafe>=2.0 in c:\\users\\fiorella\\anaconda3\\envs\\urbsim\\lib\\site-packages (from jinja2>=2.9->folium->leafmap) (3.0.2)\n",
      "Requirement already satisfied: jsonschema~=4.18 in c:\\users\\fiorella\\anaconda3\\envs\\urbsim\\lib\\site-packages (from pystac[validation]>=1.10.0->pystac-client->leafmap) (4.23.0)\n",
      "Requirement already satisfied: six>=1.5 in c:\\users\\fiorella\\anaconda3\\envs\\urbsim\\lib\\site-packages (from python-dateutil>=2.8.2->pandas->leafmap) (1.17.0)\n",
      "Requirement already satisfied: charset_normalizer<4,>=2 in c:\\users\\fiorella\\anaconda3\\envs\\urbsim\\lib\\site-packages (from requests->folium->leafmap) (3.4.1)\n",
      "Requirement already satisfied: idna<4,>=2.5 in c:\\users\\fiorella\\anaconda3\\envs\\urbsim\\lib\\site-packages (from requests->folium->leafmap) (3.10)\n",
      "Requirement already satisfied: urllib3<3,>=1.21.1 in c:\\users\\fiorella\\anaconda3\\envs\\urbsim\\lib\\site-packages (from requests->folium->leafmap) (2.3.0)\n",
      "Requirement already satisfied: certifi>=2017.4.17 in c:\\users\\fiorella\\anaconda3\\envs\\urbsim\\lib\\site-packages (from requests->folium->leafmap) (2024.12.14)\n",
      "Requirement already satisfied: soupsieve>1.2 in c:\\users\\fiorella\\anaconda3\\envs\\urbsim\\lib\\site-packages (from beautifulsoup4->gdown->leafmap) (2.5)\n",
      "Requirement already satisfied: PySocks!=1.5.7,>=1.5.6 in c:\\users\\fiorella\\anaconda3\\envs\\urbsim\\lib\\site-packages (from requests[socks]->gdown->leafmap) (1.7.1)\n",
      "Requirement already satisfied: Click>=6.0 in c:\\users\\fiorella\\anaconda3\\envs\\urbsim\\lib\\site-packages (from whitebox->whiteboxgui->leafmap) (8.1.8)\n",
      "Requirement already satisfied: parso<0.9.0,>=0.8.4 in c:\\users\\fiorella\\anaconda3\\envs\\urbsim\\lib\\site-packages (from jedi>=0.16->ipython>=6.1.0->ipywidgets->leafmap) (0.8.4)\n",
      "Requirement already satisfied: attrs>=22.2.0 in c:\\users\\fiorella\\anaconda3\\envs\\urbsim\\lib\\site-packages (from jsonschema~=4.18->pystac[validation]>=1.10.0->pystac-client->leafmap) (24.3.0)\n",
      "Requirement already satisfied: jsonschema-specifications>=2023.03.6 in c:\\users\\fiorella\\anaconda3\\envs\\urbsim\\lib\\site-packages (from jsonschema~=4.18->pystac[validation]>=1.10.0->pystac-client->leafmap) (2024.10.1)\n",
      "Requirement already satisfied: referencing>=0.28.4 in c:\\users\\fiorella\\anaconda3\\envs\\urbsim\\lib\\site-packages (from jsonschema~=4.18->pystac[validation]>=1.10.0->pystac-client->leafmap) (0.35.1)\n",
      "Requirement already satisfied: rpds-py>=0.7.1 in c:\\users\\fiorella\\anaconda3\\envs\\urbsim\\lib\\site-packages (from jsonschema~=4.18->pystac[validation]>=1.10.0->pystac-client->leafmap) (0.22.3)\n",
      "Requirement already satisfied: wcwidth in c:\\users\\fiorella\\anaconda3\\envs\\urbsim\\lib\\site-packages (from prompt_toolkit<3.1.0,>=3.0.41->ipython>=6.1.0->ipywidgets->leafmap) (0.2.13)\n",
      "Requirement already satisfied: executing>=1.2.0 in c:\\users\\fiorella\\anaconda3\\envs\\urbsim\\lib\\site-packages (from stack_data->ipython>=6.1.0->ipywidgets->leafmap) (2.1.0)\n",
      "Requirement already satisfied: asttokens>=2.1.0 in c:\\users\\fiorella\\anaconda3\\envs\\urbsim\\lib\\site-packages (from stack_data->ipython>=6.1.0->ipywidgets->leafmap) (3.0.0)\n",
      "Requirement already satisfied: pure_eval in c:\\users\\fiorella\\anaconda3\\envs\\urbsim\\lib\\site-packages (from stack_data->ipython>=6.1.0->ipywidgets->leafmap) (0.2.3)\n",
      "Note: you may need to restart the kernel to use updated packages.\n"
     ]
    }
   ],
   "source": [
    "%pip install duckdb duckdb-engine jupysql\n",
    "%pip install leafmap"
   ]
  },
  {
   "cell_type": "code",
   "execution_count": 2,
   "metadata": {
    "id": "SFCg9Xqw6bjC"
   },
   "outputs": [],
   "source": [
    "import duckdb\n",
    "import pandas as pd\n",
    "import leafmap\n",
    "import os\n",
    "import zipfile"
   ]
  },
  {
   "cell_type": "code",
   "execution_count": 3,
   "metadata": {
    "id": "0JZgMYAU6cKB"
   },
   "outputs": [],
   "source": [
    "# Import jupysql Jupyter extension to create SQL cells\n",
    "%load_ext sql\n",
    "\n",
    "%config SqlMagic.autopandas = True\n",
    "%config SqlMagic.feedback = False\n",
    "%config SqlMagic.displaycon = False"
   ]
  },
  {
   "cell_type": "code",
   "execution_count": 4,
   "metadata": {
    "colab": {
     "base_uri": "https://localhost:8080/",
     "height": 85,
     "referenced_widgets": [
      "9f8b433e55c44f889cc626a60aa31b32",
      "c8cd21db2d0c46b2bd34e7fdc1423230",
      "6a750ea77e0f4bd1822b1b97a77784d1"
     ]
    },
    "executionInfo": {
     "elapsed": 5042,
     "status": "ok",
     "timestamp": 1742325630075,
     "user": {
      "displayName": "",
      "userId": ""
     },
     "user_tz": 0
    },
    "id": "maQp71kE6jWh",
    "outputId": "ca452732-a06a-40f9-ddb7-4619bd3efcc0"
   },
   "outputs": [
    {
     "data": {
      "application/vnd.microsoft.datawrangler.viewer.v0+json": {
       "columns": [
        {
         "name": "index",
         "rawType": "int64",
         "type": "integer"
        },
        {
         "name": "Success",
         "rawType": "bool",
         "type": "boolean"
        }
       ],
       "conversionMethod": "pd.DataFrame",
       "ref": "013f6925-1441-4f36-a32c-f9a15e302b06",
       "rows": [],
       "shape": {
        "columns": 1,
        "rows": 0
       }
      },
      "text/html": [
       "<div>\n",
       "<style scoped>\n",
       "    .dataframe tbody tr th:only-of-type {\n",
       "        vertical-align: middle;\n",
       "    }\n",
       "\n",
       "    .dataframe tbody tr th {\n",
       "        vertical-align: top;\n",
       "    }\n",
       "\n",
       "    .dataframe thead th {\n",
       "        text-align: right;\n",
       "    }\n",
       "</style>\n",
       "<table border=\"1\" class=\"dataframe\">\n",
       "  <thead>\n",
       "    <tr style=\"text-align: right;\">\n",
       "      <th></th>\n",
       "      <th>Success</th>\n",
       "    </tr>\n",
       "  </thead>\n",
       "  <tbody>\n",
       "  </tbody>\n",
       "</table>\n",
       "</div>"
      ],
      "text/plain": [
       "Empty DataFrame\n",
       "Columns: [Success]\n",
       "Index: []"
      ]
     },
     "execution_count": 4,
     "metadata": {},
     "output_type": "execute_result"
    }
   ],
   "source": [
    "%%sql\n",
    "duckdb:///:memory:\n",
    "\n",
    "INSTALL spatial;\n",
    "LOAD spatial;\n",
    "\n",
    "INSTALL httpfs;\n",
    "LOAD httpfs;"
   ]
  },
  {
   "cell_type": "markdown",
   "metadata": {
    "id": "Udp_04nv8J4J"
   },
   "source": [
    "**LOAD DATA**"
   ]
  },
  {
   "cell_type": "code",
   "execution_count": 5,
   "metadata": {
    "vscode": {
     "languageId": "sql"
    }
   },
   "outputs": [
    {
     "data": {
      "application/vnd.microsoft.datawrangler.viewer.v0+json": {
       "columns": [
        {
         "name": "index",
         "rawType": "int64",
         "type": "integer"
        },
        {
         "name": "Success",
         "rawType": "bool",
         "type": "boolean"
        }
       ],
       "conversionMethod": "pd.DataFrame",
       "ref": "3846d360-c615-47c9-bd97-0886ede9c268",
       "rows": [],
       "shape": {
        "columns": 1,
        "rows": 0
       }
      },
      "text/html": [
       "<div>\n",
       "<style scoped>\n",
       "    .dataframe tbody tr th:only-of-type {\n",
       "        vertical-align: middle;\n",
       "    }\n",
       "\n",
       "    .dataframe tbody tr th {\n",
       "        vertical-align: top;\n",
       "    }\n",
       "\n",
       "    .dataframe thead th {\n",
       "        text-align: right;\n",
       "    }\n",
       "</style>\n",
       "<table border=\"1\" class=\"dataframe\">\n",
       "  <thead>\n",
       "    <tr style=\"text-align: right;\">\n",
       "      <th></th>\n",
       "      <th>Success</th>\n",
       "    </tr>\n",
       "  </thead>\n",
       "  <tbody>\n",
       "  </tbody>\n",
       "</table>\n",
       "</div>"
      ],
      "text/plain": [
       "Empty DataFrame\n",
       "Columns: [Success]\n",
       "Index: []"
      ]
     },
     "execution_count": 5,
     "metadata": {},
     "output_type": "execute_result"
    }
   ],
   "source": [
    "%%sql\n",
    "DROP TABLE IF EXISTS crane;\n",
    "CREATE TABLE crane AS SELECT * FROM 'white_naped_crane_data/White-naped crane Mongolia WSCC.csv';"
   ]
  },
  {
   "cell_type": "markdown",
   "metadata": {
    "id": "-owUslPExCcq"
   },
   "source": [
    "## Get main data from original dataset"
   ]
  },
  {
   "cell_type": "code",
   "execution_count": 6,
   "metadata": {
    "colab": {
     "base_uri": "https://localhost:8080/",
     "height": 394
    },
    "executionInfo": {
     "elapsed": 21,
     "status": "ok",
     "timestamp": 1742326421181,
     "user": {
      "displayName": "",
      "userId": ""
     },
     "user_tz": 0
    },
    "id": "DhNmxSnn9T4T",
    "outputId": "7e3182f7-57a7-42a5-f442-91ee34200b8d"
   },
   "outputs": [
    {
     "data": {
      "application/vnd.microsoft.datawrangler.viewer.v0+json": {
       "columns": [
        {
         "name": "index",
         "rawType": "int64",
         "type": "integer"
        },
        {
         "name": "column_name",
         "rawType": "object",
         "type": "string"
        },
        {
         "name": "column_type",
         "rawType": "object",
         "type": "string"
        },
        {
         "name": "null",
         "rawType": "object",
         "type": "string"
        },
        {
         "name": "key",
         "rawType": "object",
         "type": "unknown"
        },
        {
         "name": "default",
         "rawType": "object",
         "type": "unknown"
        },
        {
         "name": "extra",
         "rawType": "object",
         "type": "unknown"
        }
       ],
       "conversionMethod": "pd.DataFrame",
       "ref": "4b56808a-7771-4205-97de-99550c3b9e07",
       "rows": [
        [
         "0",
         "event-id",
         "BIGINT",
         "YES",
         null,
         null,
         null
        ],
        [
         "1",
         "visible",
         "BOOLEAN",
         "YES",
         null,
         null,
         null
        ],
        [
         "2",
         "timestamp",
         "TIMESTAMP",
         "YES",
         null,
         null,
         null
        ],
        [
         "3",
         "location-long",
         "DOUBLE",
         "YES",
         null,
         null,
         null
        ],
        [
         "4",
         "location-lat",
         "DOUBLE",
         "YES",
         null,
         null,
         null
        ],
        [
         "5",
         "gps:fix-type",
         "BIGINT",
         "YES",
         null,
         null,
         null
        ],
        [
         "6",
         "gps:hdop",
         "DOUBLE",
         "YES",
         null,
         null,
         null
        ],
        [
         "7",
         "ground-speed",
         "DOUBLE",
         "YES",
         null,
         null,
         null
        ],
        [
         "8",
         "heading",
         "DOUBLE",
         "YES",
         null,
         null,
         null
        ],
        [
         "9",
         "height-above-msl",
         "DOUBLE",
         "YES",
         null,
         null,
         null
        ],
        [
         "10",
         "manually-marked-outlier",
         "VARCHAR",
         "YES",
         null,
         null,
         null
        ],
        [
         "11",
         "tag-voltage",
         "DOUBLE",
         "YES",
         null,
         null,
         null
        ],
        [
         "12",
         "sensor-type",
         "VARCHAR",
         "YES",
         null,
         null,
         null
        ],
        [
         "13",
         "individual-taxon-canonical-name",
         "VARCHAR",
         "YES",
         null,
         null,
         null
        ],
        [
         "14",
         "tag-local-identifier",
         "DOUBLE",
         "YES",
         null,
         null,
         null
        ],
        [
         "15",
         "individual-local-identifier",
         "BIGINT",
         "YES",
         null,
         null,
         null
        ],
        [
         "16",
         "study-name",
         "VARCHAR",
         "YES",
         null,
         null,
         null
        ]
       ],
       "shape": {
        "columns": 6,
        "rows": 17
       }
      },
      "text/html": [
       "<div>\n",
       "<style scoped>\n",
       "    .dataframe tbody tr th:only-of-type {\n",
       "        vertical-align: middle;\n",
       "    }\n",
       "\n",
       "    .dataframe tbody tr th {\n",
       "        vertical-align: top;\n",
       "    }\n",
       "\n",
       "    .dataframe thead th {\n",
       "        text-align: right;\n",
       "    }\n",
       "</style>\n",
       "<table border=\"1\" class=\"dataframe\">\n",
       "  <thead>\n",
       "    <tr style=\"text-align: right;\">\n",
       "      <th></th>\n",
       "      <th>column_name</th>\n",
       "      <th>column_type</th>\n",
       "      <th>null</th>\n",
       "      <th>key</th>\n",
       "      <th>default</th>\n",
       "      <th>extra</th>\n",
       "    </tr>\n",
       "  </thead>\n",
       "  <tbody>\n",
       "    <tr>\n",
       "      <th>0</th>\n",
       "      <td>event-id</td>\n",
       "      <td>BIGINT</td>\n",
       "      <td>YES</td>\n",
       "      <td>None</td>\n",
       "      <td>None</td>\n",
       "      <td>None</td>\n",
       "    </tr>\n",
       "    <tr>\n",
       "      <th>1</th>\n",
       "      <td>visible</td>\n",
       "      <td>BOOLEAN</td>\n",
       "      <td>YES</td>\n",
       "      <td>None</td>\n",
       "      <td>None</td>\n",
       "      <td>None</td>\n",
       "    </tr>\n",
       "    <tr>\n",
       "      <th>2</th>\n",
       "      <td>timestamp</td>\n",
       "      <td>TIMESTAMP</td>\n",
       "      <td>YES</td>\n",
       "      <td>None</td>\n",
       "      <td>None</td>\n",
       "      <td>None</td>\n",
       "    </tr>\n",
       "    <tr>\n",
       "      <th>3</th>\n",
       "      <td>location-long</td>\n",
       "      <td>DOUBLE</td>\n",
       "      <td>YES</td>\n",
       "      <td>None</td>\n",
       "      <td>None</td>\n",
       "      <td>None</td>\n",
       "    </tr>\n",
       "    <tr>\n",
       "      <th>4</th>\n",
       "      <td>location-lat</td>\n",
       "      <td>DOUBLE</td>\n",
       "      <td>YES</td>\n",
       "      <td>None</td>\n",
       "      <td>None</td>\n",
       "      <td>None</td>\n",
       "    </tr>\n",
       "    <tr>\n",
       "      <th>5</th>\n",
       "      <td>gps:fix-type</td>\n",
       "      <td>BIGINT</td>\n",
       "      <td>YES</td>\n",
       "      <td>None</td>\n",
       "      <td>None</td>\n",
       "      <td>None</td>\n",
       "    </tr>\n",
       "    <tr>\n",
       "      <th>6</th>\n",
       "      <td>gps:hdop</td>\n",
       "      <td>DOUBLE</td>\n",
       "      <td>YES</td>\n",
       "      <td>None</td>\n",
       "      <td>None</td>\n",
       "      <td>None</td>\n",
       "    </tr>\n",
       "    <tr>\n",
       "      <th>7</th>\n",
       "      <td>ground-speed</td>\n",
       "      <td>DOUBLE</td>\n",
       "      <td>YES</td>\n",
       "      <td>None</td>\n",
       "      <td>None</td>\n",
       "      <td>None</td>\n",
       "    </tr>\n",
       "    <tr>\n",
       "      <th>8</th>\n",
       "      <td>heading</td>\n",
       "      <td>DOUBLE</td>\n",
       "      <td>YES</td>\n",
       "      <td>None</td>\n",
       "      <td>None</td>\n",
       "      <td>None</td>\n",
       "    </tr>\n",
       "    <tr>\n",
       "      <th>9</th>\n",
       "      <td>height-above-msl</td>\n",
       "      <td>DOUBLE</td>\n",
       "      <td>YES</td>\n",
       "      <td>None</td>\n",
       "      <td>None</td>\n",
       "      <td>None</td>\n",
       "    </tr>\n",
       "    <tr>\n",
       "      <th>10</th>\n",
       "      <td>manually-marked-outlier</td>\n",
       "      <td>VARCHAR</td>\n",
       "      <td>YES</td>\n",
       "      <td>None</td>\n",
       "      <td>None</td>\n",
       "      <td>None</td>\n",
       "    </tr>\n",
       "    <tr>\n",
       "      <th>11</th>\n",
       "      <td>tag-voltage</td>\n",
       "      <td>DOUBLE</td>\n",
       "      <td>YES</td>\n",
       "      <td>None</td>\n",
       "      <td>None</td>\n",
       "      <td>None</td>\n",
       "    </tr>\n",
       "    <tr>\n",
       "      <th>12</th>\n",
       "      <td>sensor-type</td>\n",
       "      <td>VARCHAR</td>\n",
       "      <td>YES</td>\n",
       "      <td>None</td>\n",
       "      <td>None</td>\n",
       "      <td>None</td>\n",
       "    </tr>\n",
       "    <tr>\n",
       "      <th>13</th>\n",
       "      <td>individual-taxon-canonical-name</td>\n",
       "      <td>VARCHAR</td>\n",
       "      <td>YES</td>\n",
       "      <td>None</td>\n",
       "      <td>None</td>\n",
       "      <td>None</td>\n",
       "    </tr>\n",
       "    <tr>\n",
       "      <th>14</th>\n",
       "      <td>tag-local-identifier</td>\n",
       "      <td>DOUBLE</td>\n",
       "      <td>YES</td>\n",
       "      <td>None</td>\n",
       "      <td>None</td>\n",
       "      <td>None</td>\n",
       "    </tr>\n",
       "    <tr>\n",
       "      <th>15</th>\n",
       "      <td>individual-local-identifier</td>\n",
       "      <td>BIGINT</td>\n",
       "      <td>YES</td>\n",
       "      <td>None</td>\n",
       "      <td>None</td>\n",
       "      <td>None</td>\n",
       "    </tr>\n",
       "    <tr>\n",
       "      <th>16</th>\n",
       "      <td>study-name</td>\n",
       "      <td>VARCHAR</td>\n",
       "      <td>YES</td>\n",
       "      <td>None</td>\n",
       "      <td>None</td>\n",
       "      <td>None</td>\n",
       "    </tr>\n",
       "  </tbody>\n",
       "</table>\n",
       "</div>"
      ],
      "text/plain": [
       "                        column_name column_type null   key default extra\n",
       "0                          event-id      BIGINT  YES  None    None  None\n",
       "1                           visible     BOOLEAN  YES  None    None  None\n",
       "2                         timestamp   TIMESTAMP  YES  None    None  None\n",
       "3                     location-long      DOUBLE  YES  None    None  None\n",
       "4                      location-lat      DOUBLE  YES  None    None  None\n",
       "5                      gps:fix-type      BIGINT  YES  None    None  None\n",
       "6                          gps:hdop      DOUBLE  YES  None    None  None\n",
       "7                      ground-speed      DOUBLE  YES  None    None  None\n",
       "8                           heading      DOUBLE  YES  None    None  None\n",
       "9                  height-above-msl      DOUBLE  YES  None    None  None\n",
       "10          manually-marked-outlier     VARCHAR  YES  None    None  None\n",
       "11                      tag-voltage      DOUBLE  YES  None    None  None\n",
       "12                      sensor-type     VARCHAR  YES  None    None  None\n",
       "13  individual-taxon-canonical-name     VARCHAR  YES  None    None  None\n",
       "14             tag-local-identifier      DOUBLE  YES  None    None  None\n",
       "15      individual-local-identifier      BIGINT  YES  None    None  None\n",
       "16                       study-name     VARCHAR  YES  None    None  None"
      ]
     },
     "execution_count": 6,
     "metadata": {},
     "output_type": "execute_result"
    }
   ],
   "source": [
    "%%sql\n",
    "-- get name of columns, type of variables and more info\n",
    "SELECT * FROM (DESCRIBE crane);\n"
   ]
  },
  {
   "cell_type": "markdown",
   "metadata": {
    "id": "efhXdoG7xm_d"
   },
   "source": [
    "MAIN OPERATIONS AVAILABLE"
   ]
  },
  {
   "cell_type": "code",
   "execution_count": 7,
   "metadata": {
    "colab": {
     "base_uri": "https://localhost:8080/",
     "height": 81
    },
    "executionInfo": {
     "elapsed": 33,
     "status": "ok",
     "timestamp": 1742326423226,
     "user": {
      "displayName": "",
      "userId": ""
     },
     "user_tz": 0
    },
    "id": "Mw3GIUKAxLu7",
    "outputId": "97daa451-54b1-4da9-9a97-542c82ee42f7"
   },
   "outputs": [
    {
     "data": {
      "application/vnd.microsoft.datawrangler.viewer.v0+json": {
       "columns": [
        {
         "name": "index",
         "rawType": "int64",
         "type": "integer"
        },
        {
         "name": "count_star()",
         "rawType": "int64",
         "type": "integer"
        }
       ],
       "conversionMethod": "pd.DataFrame",
       "ref": "988b00b3-ab5c-4aa1-aa3c-1d30e0032a4a",
       "rows": [
        [
         "0",
         "234390"
        ]
       ],
       "shape": {
        "columns": 1,
        "rows": 1
       }
      },
      "text/html": [
       "<div>\n",
       "<style scoped>\n",
       "    .dataframe tbody tr th:only-of-type {\n",
       "        vertical-align: middle;\n",
       "    }\n",
       "\n",
       "    .dataframe tbody tr th {\n",
       "        vertical-align: top;\n",
       "    }\n",
       "\n",
       "    .dataframe thead th {\n",
       "        text-align: right;\n",
       "    }\n",
       "</style>\n",
       "<table border=\"1\" class=\"dataframe\">\n",
       "  <thead>\n",
       "    <tr style=\"text-align: right;\">\n",
       "      <th></th>\n",
       "      <th>count_star()</th>\n",
       "    </tr>\n",
       "  </thead>\n",
       "  <tbody>\n",
       "    <tr>\n",
       "      <th>0</th>\n",
       "      <td>234390</td>\n",
       "    </tr>\n",
       "  </tbody>\n",
       "</table>\n",
       "</div>"
      ],
      "text/plain": [
       "   count_star()\n",
       "0        234390"
      ]
     },
     "execution_count": 7,
     "metadata": {},
     "output_type": "execute_result"
    }
   ],
   "source": [
    "%%sql\n",
    "\n",
    "SELECT COUNT(*) FROM crane;"
   ]
  },
  {
   "cell_type": "code",
   "execution_count": 8,
   "metadata": {
    "colab": {
     "base_uri": "https://localhost:8080/",
     "height": 554
    },
    "executionInfo": {
     "elapsed": 75,
     "status": "ok",
     "timestamp": 1742326424824,
     "user": {
      "displayName": "",
      "userId": ""
     },
     "user_tz": 0
    },
    "id": "sKV_1SjZtN3D",
    "outputId": "ed2a0248-dbc1-429a-c393-6fb570c3b031"
   },
   "outputs": [
    {
     "data": {
      "application/vnd.microsoft.datawrangler.viewer.v0+json": {
       "columns": [
        {
         "name": "index",
         "rawType": "int64",
         "type": "integer"
        },
        {
         "name": "event-id",
         "rawType": "int64",
         "type": "integer"
        },
        {
         "name": "visible",
         "rawType": "bool",
         "type": "boolean"
        },
        {
         "name": "timestamp",
         "rawType": "datetime64[us]",
         "type": "unknown"
        },
        {
         "name": "location-long",
         "rawType": "float64",
         "type": "float"
        },
        {
         "name": "location-lat",
         "rawType": "float64",
         "type": "float"
        },
        {
         "name": "gps:fix-type",
         "rawType": "int64",
         "type": "integer"
        },
        {
         "name": "gps:hdop",
         "rawType": "float64",
         "type": "float"
        },
        {
         "name": "ground-speed",
         "rawType": "float64",
         "type": "float"
        },
        {
         "name": "heading",
         "rawType": "float64",
         "type": "float"
        },
        {
         "name": "height-above-msl",
         "rawType": "float64",
         "type": "float"
        },
        {
         "name": "manually-marked-outlier",
         "rawType": "object",
         "type": "unknown"
        },
        {
         "name": "tag-voltage",
         "rawType": "float64",
         "type": "float"
        },
        {
         "name": "sensor-type",
         "rawType": "object",
         "type": "string"
        },
        {
         "name": "individual-taxon-canonical-name",
         "rawType": "object",
         "type": "string"
        },
        {
         "name": "tag-local-identifier",
         "rawType": "float64",
         "type": "float"
        },
        {
         "name": "individual-local-identifier",
         "rawType": "int64",
         "type": "integer"
        },
        {
         "name": "study-name",
         "rawType": "object",
         "type": "string"
        }
       ],
       "conversionMethod": "pd.DataFrame",
       "ref": "82072521-71f0-415c-8829-e04e6737c774",
       "rows": [
        [
         "0",
         "2356091477",
         "True",
         "2014-08-09 08:28:09",
         "110.218422",
         "48.126228",
         "3",
         "3.5",
         "12.346666666666668",
         null,
         "1215.0",
         null,
         "3.66",
         "gps",
         "Grus vipio",
         "8.946080012002723e+19",
         "27233186",
         "White-naped crane Mongolia WSCC"
        ],
        [
         "1",
         "2356091577",
         "True",
         "2014-08-09 08:59:09",
         "110.335327",
         "48.204704",
         "3",
         "1.7",
         "12.346666666666668",
         null,
         "1241.0",
         null,
         "3.65",
         "gps",
         "Grus vipio",
         "8.946080012002723e+19",
         "27233186",
         "White-naped crane Mongolia WSCC"
        ],
        [
         "2",
         "2356091532",
         "True",
         "2014-08-09 09:27:39",
         "110.354172",
         "48.295742",
         "3",
         "4.5",
         "0.5144444444444445",
         null,
         "909.0",
         null,
         "3.66",
         "gps",
         "Grus vipio",
         "8.946080012002723e+19",
         "27233186",
         "White-naped crane Mongolia WSCC"
        ],
        [
         "3",
         "2356091482",
         "True",
         "2014-08-09 09:58:09",
         "110.3535",
         "48.298092",
         "3",
         "2.5",
         "0.0",
         null,
         "1010.0",
         null,
         "3.66",
         "gps",
         "Grus vipio",
         "8.946080012002723e+19",
         "27233186",
         "White-naped crane Mongolia WSCC"
        ],
        [
         "4",
         "2356091504",
         "True",
         "2014-08-09 10:29:09",
         "110.354248",
         "48.297897",
         "3",
         "2.9",
         "0.0",
         null,
         "1133.0",
         null,
         "3.65",
         "gps",
         "Grus vipio",
         "8.946080012002723e+19",
         "27233186",
         "White-naped crane Mongolia WSCC"
        ],
        [
         "5",
         "2356091478",
         "True",
         "2014-08-09 10:58:40",
         "110.35421",
         "48.297924",
         "3",
         "1.4",
         "0.0",
         null,
         "1132.0",
         null,
         "3.65",
         "gps",
         "Grus vipio",
         "8.946080012002723e+19",
         "27233186",
         "White-naped crane Mongolia WSCC"
        ],
        [
         "6",
         "2356091533",
         "True",
         "2014-08-09 11:29:09",
         "110.354233",
         "48.297924",
         "3",
         "3.8",
         "0.0",
         null,
         "1133.0",
         null,
         "3.65",
         "gps",
         "Grus vipio",
         "8.946080012002723e+19",
         "27233186",
         "White-naped crane Mongolia WSCC"
        ],
        [
         "7",
         "2356091578",
         "True",
         "2014-08-09 11:43:09",
         "110.354218",
         "48.297981",
         "3",
         "1.7",
         "0.0",
         null,
         "1133.0",
         null,
         "3.65",
         "gps",
         "Grus vipio",
         "8.946080012002723e+19",
         "27233186",
         "White-naped crane Mongolia WSCC"
        ],
        [
         "8",
         "2356091483",
         "True",
         "2014-08-09 12:14:09",
         "110.35424",
         "48.29797",
         "3",
         "1.2",
         "0.0",
         null,
         "1133.0",
         null,
         "3.64",
         "gps",
         "Grus vipio",
         "8.946080012002723e+19",
         "27233186",
         "White-naped crane Mongolia WSCC"
        ],
        [
         "9",
         "2356091505",
         "True",
         "2014-08-09 12:44:03",
         "110.354179",
         "48.29789",
         "3",
         "1.5",
         "0.0",
         null,
         "1139.0",
         null,
         "3.63",
         "gps",
         "Grus vipio",
         "8.946080012002723e+19",
         "27233186",
         "White-naped crane Mongolia WSCC"
        ]
       ],
       "shape": {
        "columns": 17,
        "rows": 10
       }
      },
      "text/html": [
       "<div>\n",
       "<style scoped>\n",
       "    .dataframe tbody tr th:only-of-type {\n",
       "        vertical-align: middle;\n",
       "    }\n",
       "\n",
       "    .dataframe tbody tr th {\n",
       "        vertical-align: top;\n",
       "    }\n",
       "\n",
       "    .dataframe thead th {\n",
       "        text-align: right;\n",
       "    }\n",
       "</style>\n",
       "<table border=\"1\" class=\"dataframe\">\n",
       "  <thead>\n",
       "    <tr style=\"text-align: right;\">\n",
       "      <th></th>\n",
       "      <th>event-id</th>\n",
       "      <th>visible</th>\n",
       "      <th>timestamp</th>\n",
       "      <th>location-long</th>\n",
       "      <th>location-lat</th>\n",
       "      <th>gps:fix-type</th>\n",
       "      <th>gps:hdop</th>\n",
       "      <th>ground-speed</th>\n",
       "      <th>heading</th>\n",
       "      <th>height-above-msl</th>\n",
       "      <th>manually-marked-outlier</th>\n",
       "      <th>tag-voltage</th>\n",
       "      <th>sensor-type</th>\n",
       "      <th>individual-taxon-canonical-name</th>\n",
       "      <th>tag-local-identifier</th>\n",
       "      <th>individual-local-identifier</th>\n",
       "      <th>study-name</th>\n",
       "    </tr>\n",
       "  </thead>\n",
       "  <tbody>\n",
       "    <tr>\n",
       "      <th>0</th>\n",
       "      <td>2356091477</td>\n",
       "      <td>True</td>\n",
       "      <td>2014-08-09 08:28:09</td>\n",
       "      <td>110.218422</td>\n",
       "      <td>48.126228</td>\n",
       "      <td>3</td>\n",
       "      <td>3.5</td>\n",
       "      <td>12.346667</td>\n",
       "      <td>NaN</td>\n",
       "      <td>1215.0</td>\n",
       "      <td>None</td>\n",
       "      <td>3.66</td>\n",
       "      <td>gps</td>\n",
       "      <td>Grus vipio</td>\n",
       "      <td>8.946080e+19</td>\n",
       "      <td>27233186</td>\n",
       "      <td>White-naped crane Mongolia WSCC</td>\n",
       "    </tr>\n",
       "    <tr>\n",
       "      <th>1</th>\n",
       "      <td>2356091577</td>\n",
       "      <td>True</td>\n",
       "      <td>2014-08-09 08:59:09</td>\n",
       "      <td>110.335327</td>\n",
       "      <td>48.204704</td>\n",
       "      <td>3</td>\n",
       "      <td>1.7</td>\n",
       "      <td>12.346667</td>\n",
       "      <td>NaN</td>\n",
       "      <td>1241.0</td>\n",
       "      <td>None</td>\n",
       "      <td>3.65</td>\n",
       "      <td>gps</td>\n",
       "      <td>Grus vipio</td>\n",
       "      <td>8.946080e+19</td>\n",
       "      <td>27233186</td>\n",
       "      <td>White-naped crane Mongolia WSCC</td>\n",
       "    </tr>\n",
       "    <tr>\n",
       "      <th>2</th>\n",
       "      <td>2356091532</td>\n",
       "      <td>True</td>\n",
       "      <td>2014-08-09 09:27:39</td>\n",
       "      <td>110.354172</td>\n",
       "      <td>48.295742</td>\n",
       "      <td>3</td>\n",
       "      <td>4.5</td>\n",
       "      <td>0.514444</td>\n",
       "      <td>NaN</td>\n",
       "      <td>909.0</td>\n",
       "      <td>None</td>\n",
       "      <td>3.66</td>\n",
       "      <td>gps</td>\n",
       "      <td>Grus vipio</td>\n",
       "      <td>8.946080e+19</td>\n",
       "      <td>27233186</td>\n",
       "      <td>White-naped crane Mongolia WSCC</td>\n",
       "    </tr>\n",
       "    <tr>\n",
       "      <th>3</th>\n",
       "      <td>2356091482</td>\n",
       "      <td>True</td>\n",
       "      <td>2014-08-09 09:58:09</td>\n",
       "      <td>110.353500</td>\n",
       "      <td>48.298092</td>\n",
       "      <td>3</td>\n",
       "      <td>2.5</td>\n",
       "      <td>0.000000</td>\n",
       "      <td>NaN</td>\n",
       "      <td>1010.0</td>\n",
       "      <td>None</td>\n",
       "      <td>3.66</td>\n",
       "      <td>gps</td>\n",
       "      <td>Grus vipio</td>\n",
       "      <td>8.946080e+19</td>\n",
       "      <td>27233186</td>\n",
       "      <td>White-naped crane Mongolia WSCC</td>\n",
       "    </tr>\n",
       "    <tr>\n",
       "      <th>4</th>\n",
       "      <td>2356091504</td>\n",
       "      <td>True</td>\n",
       "      <td>2014-08-09 10:29:09</td>\n",
       "      <td>110.354248</td>\n",
       "      <td>48.297897</td>\n",
       "      <td>3</td>\n",
       "      <td>2.9</td>\n",
       "      <td>0.000000</td>\n",
       "      <td>NaN</td>\n",
       "      <td>1133.0</td>\n",
       "      <td>None</td>\n",
       "      <td>3.65</td>\n",
       "      <td>gps</td>\n",
       "      <td>Grus vipio</td>\n",
       "      <td>8.946080e+19</td>\n",
       "      <td>27233186</td>\n",
       "      <td>White-naped crane Mongolia WSCC</td>\n",
       "    </tr>\n",
       "    <tr>\n",
       "      <th>5</th>\n",
       "      <td>2356091478</td>\n",
       "      <td>True</td>\n",
       "      <td>2014-08-09 10:58:40</td>\n",
       "      <td>110.354210</td>\n",
       "      <td>48.297924</td>\n",
       "      <td>3</td>\n",
       "      <td>1.4</td>\n",
       "      <td>0.000000</td>\n",
       "      <td>NaN</td>\n",
       "      <td>1132.0</td>\n",
       "      <td>None</td>\n",
       "      <td>3.65</td>\n",
       "      <td>gps</td>\n",
       "      <td>Grus vipio</td>\n",
       "      <td>8.946080e+19</td>\n",
       "      <td>27233186</td>\n",
       "      <td>White-naped crane Mongolia WSCC</td>\n",
       "    </tr>\n",
       "    <tr>\n",
       "      <th>6</th>\n",
       "      <td>2356091533</td>\n",
       "      <td>True</td>\n",
       "      <td>2014-08-09 11:29:09</td>\n",
       "      <td>110.354233</td>\n",
       "      <td>48.297924</td>\n",
       "      <td>3</td>\n",
       "      <td>3.8</td>\n",
       "      <td>0.000000</td>\n",
       "      <td>NaN</td>\n",
       "      <td>1133.0</td>\n",
       "      <td>None</td>\n",
       "      <td>3.65</td>\n",
       "      <td>gps</td>\n",
       "      <td>Grus vipio</td>\n",
       "      <td>8.946080e+19</td>\n",
       "      <td>27233186</td>\n",
       "      <td>White-naped crane Mongolia WSCC</td>\n",
       "    </tr>\n",
       "    <tr>\n",
       "      <th>7</th>\n",
       "      <td>2356091578</td>\n",
       "      <td>True</td>\n",
       "      <td>2014-08-09 11:43:09</td>\n",
       "      <td>110.354218</td>\n",
       "      <td>48.297981</td>\n",
       "      <td>3</td>\n",
       "      <td>1.7</td>\n",
       "      <td>0.000000</td>\n",
       "      <td>NaN</td>\n",
       "      <td>1133.0</td>\n",
       "      <td>None</td>\n",
       "      <td>3.65</td>\n",
       "      <td>gps</td>\n",
       "      <td>Grus vipio</td>\n",
       "      <td>8.946080e+19</td>\n",
       "      <td>27233186</td>\n",
       "      <td>White-naped crane Mongolia WSCC</td>\n",
       "    </tr>\n",
       "    <tr>\n",
       "      <th>8</th>\n",
       "      <td>2356091483</td>\n",
       "      <td>True</td>\n",
       "      <td>2014-08-09 12:14:09</td>\n",
       "      <td>110.354240</td>\n",
       "      <td>48.297970</td>\n",
       "      <td>3</td>\n",
       "      <td>1.2</td>\n",
       "      <td>0.000000</td>\n",
       "      <td>NaN</td>\n",
       "      <td>1133.0</td>\n",
       "      <td>None</td>\n",
       "      <td>3.64</td>\n",
       "      <td>gps</td>\n",
       "      <td>Grus vipio</td>\n",
       "      <td>8.946080e+19</td>\n",
       "      <td>27233186</td>\n",
       "      <td>White-naped crane Mongolia WSCC</td>\n",
       "    </tr>\n",
       "    <tr>\n",
       "      <th>9</th>\n",
       "      <td>2356091505</td>\n",
       "      <td>True</td>\n",
       "      <td>2014-08-09 12:44:03</td>\n",
       "      <td>110.354179</td>\n",
       "      <td>48.297890</td>\n",
       "      <td>3</td>\n",
       "      <td>1.5</td>\n",
       "      <td>0.000000</td>\n",
       "      <td>NaN</td>\n",
       "      <td>1139.0</td>\n",
       "      <td>None</td>\n",
       "      <td>3.63</td>\n",
       "      <td>gps</td>\n",
       "      <td>Grus vipio</td>\n",
       "      <td>8.946080e+19</td>\n",
       "      <td>27233186</td>\n",
       "      <td>White-naped crane Mongolia WSCC</td>\n",
       "    </tr>\n",
       "  </tbody>\n",
       "</table>\n",
       "</div>"
      ],
      "text/plain": [
       "     event-id  visible           timestamp  location-long  location-lat  \\\n",
       "0  2356091477     True 2014-08-09 08:28:09     110.218422     48.126228   \n",
       "1  2356091577     True 2014-08-09 08:59:09     110.335327     48.204704   \n",
       "2  2356091532     True 2014-08-09 09:27:39     110.354172     48.295742   \n",
       "3  2356091482     True 2014-08-09 09:58:09     110.353500     48.298092   \n",
       "4  2356091504     True 2014-08-09 10:29:09     110.354248     48.297897   \n",
       "5  2356091478     True 2014-08-09 10:58:40     110.354210     48.297924   \n",
       "6  2356091533     True 2014-08-09 11:29:09     110.354233     48.297924   \n",
       "7  2356091578     True 2014-08-09 11:43:09     110.354218     48.297981   \n",
       "8  2356091483     True 2014-08-09 12:14:09     110.354240     48.297970   \n",
       "9  2356091505     True 2014-08-09 12:44:03     110.354179     48.297890   \n",
       "\n",
       "   gps:fix-type  gps:hdop  ground-speed  heading  height-above-msl  \\\n",
       "0             3       3.5     12.346667      NaN            1215.0   \n",
       "1             3       1.7     12.346667      NaN            1241.0   \n",
       "2             3       4.5      0.514444      NaN             909.0   \n",
       "3             3       2.5      0.000000      NaN            1010.0   \n",
       "4             3       2.9      0.000000      NaN            1133.0   \n",
       "5             3       1.4      0.000000      NaN            1132.0   \n",
       "6             3       3.8      0.000000      NaN            1133.0   \n",
       "7             3       1.7      0.000000      NaN            1133.0   \n",
       "8             3       1.2      0.000000      NaN            1133.0   \n",
       "9             3       1.5      0.000000      NaN            1139.0   \n",
       "\n",
       "  manually-marked-outlier  tag-voltage sensor-type  \\\n",
       "0                    None         3.66         gps   \n",
       "1                    None         3.65         gps   \n",
       "2                    None         3.66         gps   \n",
       "3                    None         3.66         gps   \n",
       "4                    None         3.65         gps   \n",
       "5                    None         3.65         gps   \n",
       "6                    None         3.65         gps   \n",
       "7                    None         3.65         gps   \n",
       "8                    None         3.64         gps   \n",
       "9                    None         3.63         gps   \n",
       "\n",
       "  individual-taxon-canonical-name  tag-local-identifier  \\\n",
       "0                      Grus vipio          8.946080e+19   \n",
       "1                      Grus vipio          8.946080e+19   \n",
       "2                      Grus vipio          8.946080e+19   \n",
       "3                      Grus vipio          8.946080e+19   \n",
       "4                      Grus vipio          8.946080e+19   \n",
       "5                      Grus vipio          8.946080e+19   \n",
       "6                      Grus vipio          8.946080e+19   \n",
       "7                      Grus vipio          8.946080e+19   \n",
       "8                      Grus vipio          8.946080e+19   \n",
       "9                      Grus vipio          8.946080e+19   \n",
       "\n",
       "   individual-local-identifier                       study-name  \n",
       "0                     27233186  White-naped crane Mongolia WSCC  \n",
       "1                     27233186  White-naped crane Mongolia WSCC  \n",
       "2                     27233186  White-naped crane Mongolia WSCC  \n",
       "3                     27233186  White-naped crane Mongolia WSCC  \n",
       "4                     27233186  White-naped crane Mongolia WSCC  \n",
       "5                     27233186  White-naped crane Mongolia WSCC  \n",
       "6                     27233186  White-naped crane Mongolia WSCC  \n",
       "7                     27233186  White-naped crane Mongolia WSCC  \n",
       "8                     27233186  White-naped crane Mongolia WSCC  \n",
       "9                     27233186  White-naped crane Mongolia WSCC  "
      ]
     },
     "execution_count": 8,
     "metadata": {},
     "output_type": "execute_result"
    }
   ],
   "source": [
    "%%sql\n",
    "\n",
    "SELECT * FROM crane LIMIT 10;"
   ]
  },
  {
   "cell_type": "code",
   "execution_count": 9,
   "metadata": {
    "colab": {
     "base_uri": "https://localhost:8080/",
     "height": 81
    },
    "executionInfo": {
     "elapsed": 7,
     "status": "ok",
     "timestamp": 1742326426696,
     "user": {
      "displayName": "",
      "userId": ""
     },
     "user_tz": 0
    },
    "id": "vm04ojPqtjiP",
    "outputId": "7ba8fcba-6388-4d60-def0-adeae30a219c"
   },
   "outputs": [
    {
     "data": {
      "application/vnd.microsoft.datawrangler.viewer.v0+json": {
       "columns": [
        {
         "name": "index",
         "rawType": "int64",
         "type": "integer"
        },
        {
         "name": "min(\"timestamp\")",
         "rawType": "datetime64[us]",
         "type": "unknown"
        },
        {
         "name": "max(\"timestamp\")",
         "rawType": "datetime64[us]",
         "type": "unknown"
        }
       ],
       "conversionMethod": "pd.DataFrame",
       "ref": "2eefb26e-e4bc-469d-9bc1-68f6b24fa03e",
       "rows": [
        [
         "0",
         "2013-08-13 00:29:39",
         "2021-04-10 23:02:45"
        ]
       ],
       "shape": {
        "columns": 2,
        "rows": 1
       }
      },
      "text/html": [
       "<div>\n",
       "<style scoped>\n",
       "    .dataframe tbody tr th:only-of-type {\n",
       "        vertical-align: middle;\n",
       "    }\n",
       "\n",
       "    .dataframe tbody tr th {\n",
       "        vertical-align: top;\n",
       "    }\n",
       "\n",
       "    .dataframe thead th {\n",
       "        text-align: right;\n",
       "    }\n",
       "</style>\n",
       "<table border=\"1\" class=\"dataframe\">\n",
       "  <thead>\n",
       "    <tr style=\"text-align: right;\">\n",
       "      <th></th>\n",
       "      <th>min(\"timestamp\")</th>\n",
       "      <th>max(\"timestamp\")</th>\n",
       "    </tr>\n",
       "  </thead>\n",
       "  <tbody>\n",
       "    <tr>\n",
       "      <th>0</th>\n",
       "      <td>2013-08-13 00:29:39</td>\n",
       "      <td>2021-04-10 23:02:45</td>\n",
       "    </tr>\n",
       "  </tbody>\n",
       "</table>\n",
       "</div>"
      ],
      "text/plain": [
       "     min(\"timestamp\")    max(\"timestamp\")\n",
       "0 2013-08-13 00:29:39 2021-04-10 23:02:45"
      ]
     },
     "execution_count": 9,
     "metadata": {},
     "output_type": "execute_result"
    }
   ],
   "source": [
    "%%sql\n",
    "\n",
    "SELECT MIN(timestamp), MAX(timestamp) FROM crane;\n"
   ]
  },
  {
   "cell_type": "code",
   "execution_count": 10,
   "metadata": {},
   "outputs": [
    {
     "data": {
      "application/vnd.microsoft.datawrangler.viewer.v0+json": {
       "columns": [
        {
         "name": "index",
         "rawType": "int64",
         "type": "integer"
        },
        {
         "name": "individual-local-identifier",
         "rawType": "int64",
         "type": "integer"
        }
       ],
       "conversionMethod": "pd.DataFrame",
       "ref": "25548076-b745-4e81-b8c9-3b3305904ec3",
       "rows": [
        [
         "0",
         "27234135"
        ],
        [
         "1",
         "27230893"
        ],
        [
         "2",
         "27233947"
        ],
        [
         "3",
         "52409530"
        ],
        [
         "4",
         "27233186"
        ],
        [
         "5",
         "52409548"
        ],
        [
         "6",
         "27231081"
        ]
       ],
       "shape": {
        "columns": 1,
        "rows": 7
       }
      },
      "text/html": [
       "<div>\n",
       "<style scoped>\n",
       "    .dataframe tbody tr th:only-of-type {\n",
       "        vertical-align: middle;\n",
       "    }\n",
       "\n",
       "    .dataframe tbody tr th {\n",
       "        vertical-align: top;\n",
       "    }\n",
       "\n",
       "    .dataframe thead th {\n",
       "        text-align: right;\n",
       "    }\n",
       "</style>\n",
       "<table border=\"1\" class=\"dataframe\">\n",
       "  <thead>\n",
       "    <tr style=\"text-align: right;\">\n",
       "      <th></th>\n",
       "      <th>individual-local-identifier</th>\n",
       "    </tr>\n",
       "  </thead>\n",
       "  <tbody>\n",
       "    <tr>\n",
       "      <th>0</th>\n",
       "      <td>27234135</td>\n",
       "    </tr>\n",
       "    <tr>\n",
       "      <th>1</th>\n",
       "      <td>27230893</td>\n",
       "    </tr>\n",
       "    <tr>\n",
       "      <th>2</th>\n",
       "      <td>27233947</td>\n",
       "    </tr>\n",
       "    <tr>\n",
       "      <th>3</th>\n",
       "      <td>52409530</td>\n",
       "    </tr>\n",
       "    <tr>\n",
       "      <th>4</th>\n",
       "      <td>27233186</td>\n",
       "    </tr>\n",
       "    <tr>\n",
       "      <th>5</th>\n",
       "      <td>52409548</td>\n",
       "    </tr>\n",
       "    <tr>\n",
       "      <th>6</th>\n",
       "      <td>27231081</td>\n",
       "    </tr>\n",
       "  </tbody>\n",
       "</table>\n",
       "</div>"
      ],
      "text/plain": [
       "   individual-local-identifier\n",
       "0                     27234135\n",
       "1                     27230893\n",
       "2                     27233947\n",
       "3                     52409530\n",
       "4                     27233186\n",
       "5                     52409548\n",
       "6                     27231081"
      ]
     },
     "execution_count": 10,
     "metadata": {},
     "output_type": "execute_result"
    }
   ],
   "source": [
    "%%sql\n",
    "\n",
    "SELECT DISTINCT \"individual-local-identifier\" FROM crane\n",
    "LIMIT 14;"
   ]
  },
  {
   "cell_type": "code",
   "execution_count": 11,
   "metadata": {
    "colab": {
     "base_uri": "https://localhost:8080/",
     "height": 81
    },
    "executionInfo": {
     "elapsed": 170,
     "status": "ok",
     "timestamp": 1742326449592,
     "user": {
      "displayName": "",
      "userId": ""
     },
     "user_tz": 0
    },
    "id": "7C-OQwzlxuIN",
    "outputId": "6154fda0-7cfa-4c4c-94c9-2fc29ddf9692"
   },
   "outputs": [
    {
     "data": {
      "application/vnd.microsoft.datawrangler.viewer.v0+json": {
       "columns": [
        {
         "name": "index",
         "rawType": "int64",
         "type": "integer"
        },
        {
         "name": "count(DISTINCT \"individual-local-identifier\")",
         "rawType": "int64",
         "type": "integer"
        }
       ],
       "conversionMethod": "pd.DataFrame",
       "ref": "1c69ecb8-31e8-4985-9767-d429161c5b15",
       "rows": [
        [
         "0",
         "7"
        ]
       ],
       "shape": {
        "columns": 1,
        "rows": 1
       }
      },
      "text/html": [
       "<div>\n",
       "<style scoped>\n",
       "    .dataframe tbody tr th:only-of-type {\n",
       "        vertical-align: middle;\n",
       "    }\n",
       "\n",
       "    .dataframe tbody tr th {\n",
       "        vertical-align: top;\n",
       "    }\n",
       "\n",
       "    .dataframe thead th {\n",
       "        text-align: right;\n",
       "    }\n",
       "</style>\n",
       "<table border=\"1\" class=\"dataframe\">\n",
       "  <thead>\n",
       "    <tr style=\"text-align: right;\">\n",
       "      <th></th>\n",
       "      <th>count(DISTINCT \"individual-local-identifier\")</th>\n",
       "    </tr>\n",
       "  </thead>\n",
       "  <tbody>\n",
       "    <tr>\n",
       "      <th>0</th>\n",
       "      <td>7</td>\n",
       "    </tr>\n",
       "  </tbody>\n",
       "</table>\n",
       "</div>"
      ],
      "text/plain": [
       "   count(DISTINCT \"individual-local-identifier\")\n",
       "0                                              7"
      ]
     },
     "execution_count": 11,
     "metadata": {},
     "output_type": "execute_result"
    }
   ],
   "source": [
    "%%sql\n",
    "\n",
    "SELECT COUNT(DISTINCT \"individual-local-identifier\") FROM crane AS number_of_cranes;"
   ]
  },
  {
   "cell_type": "code",
   "execution_count": 12,
   "metadata": {
    "colab": {
     "base_uri": "https://localhost:8080/",
     "height": 519
    },
    "executionInfo": {
     "elapsed": 252,
     "status": "ok",
     "timestamp": 1742326461454,
     "user": {
      "displayName": "",
      "userId": ""
     },
     "user_tz": 0
    },
    "id": "zFPRE0eruvlp",
    "outputId": "7f862402-ce7a-4be3-cdba-46b9ac9e5872"
   },
   "outputs": [
    {
     "data": {
      "application/vnd.microsoft.datawrangler.viewer.v0+json": {
       "columns": [
        {
         "name": "index",
         "rawType": "int64",
         "type": "integer"
        },
        {
         "name": "individual-local-identifier",
         "rawType": "int64",
         "type": "integer"
        },
        {
         "name": "count",
         "rawType": "int64",
         "type": "integer"
        }
       ],
       "conversionMethod": "pd.DataFrame",
       "ref": "f254689b-ec4e-40ac-895d-f3521fb09602",
       "rows": [
        [
         "0",
         "27233947",
         "79194"
        ],
        [
         "1",
         "52409530",
         "11624"
        ],
        [
         "2",
         "27234135",
         "41513"
        ],
        [
         "3",
         "27230893",
         "13747"
        ],
        [
         "4",
         "27233186",
         "17657"
        ],
        [
         "5",
         "52409548",
         "86"
        ],
        [
         "6",
         "27231081",
         "70569"
        ]
       ],
       "shape": {
        "columns": 2,
        "rows": 7
       }
      },
      "text/html": [
       "<div>\n",
       "<style scoped>\n",
       "    .dataframe tbody tr th:only-of-type {\n",
       "        vertical-align: middle;\n",
       "    }\n",
       "\n",
       "    .dataframe tbody tr th {\n",
       "        vertical-align: top;\n",
       "    }\n",
       "\n",
       "    .dataframe thead th {\n",
       "        text-align: right;\n",
       "    }\n",
       "</style>\n",
       "<table border=\"1\" class=\"dataframe\">\n",
       "  <thead>\n",
       "    <tr style=\"text-align: right;\">\n",
       "      <th></th>\n",
       "      <th>individual-local-identifier</th>\n",
       "      <th>count</th>\n",
       "    </tr>\n",
       "  </thead>\n",
       "  <tbody>\n",
       "    <tr>\n",
       "      <th>0</th>\n",
       "      <td>27233947</td>\n",
       "      <td>79194</td>\n",
       "    </tr>\n",
       "    <tr>\n",
       "      <th>1</th>\n",
       "      <td>52409530</td>\n",
       "      <td>11624</td>\n",
       "    </tr>\n",
       "    <tr>\n",
       "      <th>2</th>\n",
       "      <td>27234135</td>\n",
       "      <td>41513</td>\n",
       "    </tr>\n",
       "    <tr>\n",
       "      <th>3</th>\n",
       "      <td>27230893</td>\n",
       "      <td>13747</td>\n",
       "    </tr>\n",
       "    <tr>\n",
       "      <th>4</th>\n",
       "      <td>27233186</td>\n",
       "      <td>17657</td>\n",
       "    </tr>\n",
       "    <tr>\n",
       "      <th>5</th>\n",
       "      <td>52409548</td>\n",
       "      <td>86</td>\n",
       "    </tr>\n",
       "    <tr>\n",
       "      <th>6</th>\n",
       "      <td>27231081</td>\n",
       "      <td>70569</td>\n",
       "    </tr>\n",
       "  </tbody>\n",
       "</table>\n",
       "</div>"
      ],
      "text/plain": [
       "   individual-local-identifier  count\n",
       "0                     27233947  79194\n",
       "1                     52409530  11624\n",
       "2                     27234135  41513\n",
       "3                     27230893  13747\n",
       "4                     27233186  17657\n",
       "5                     52409548     86\n",
       "6                     27231081  70569"
      ]
     },
     "execution_count": 12,
     "metadata": {},
     "output_type": "execute_result"
    }
   ],
   "source": [
    "%%sql\n",
    "\n",
    "SELECT \"individual-local-identifier\", COUNT(*) AS count\n",
    "FROM crane GROUP BY \"individual-local-identifier\";\n"
   ]
  },
  {
   "cell_type": "markdown",
   "metadata": {},
   "source": [
    "### LOAD DATA USING PANDAS, CLEAN IT AND VISUALIZE IT"
   ]
  },
  {
   "cell_type": "code",
   "execution_count": 13,
   "metadata": {},
   "outputs": [],
   "source": [
    "df = pd.read_csv('white_naped_crane_data/White-naped crane Mongolia WSCC.csv')"
   ]
  },
  {
   "cell_type": "code",
   "execution_count": 14,
   "metadata": {},
   "outputs": [
    {
     "data": {
      "application/vnd.microsoft.datawrangler.viewer.v0+json": {
       "columns": [
        {
         "name": "index",
         "rawType": "int64",
         "type": "integer"
        },
        {
         "name": "event-id",
         "rawType": "int64",
         "type": "integer"
        },
        {
         "name": "visible",
         "rawType": "bool",
         "type": "boolean"
        },
        {
         "name": "timestamp",
         "rawType": "object",
         "type": "string"
        },
        {
         "name": "location-long",
         "rawType": "float64",
         "type": "float"
        },
        {
         "name": "location-lat",
         "rawType": "float64",
         "type": "float"
        },
        {
         "name": "gps:fix-type",
         "rawType": "int64",
         "type": "integer"
        },
        {
         "name": "gps:hdop",
         "rawType": "float64",
         "type": "float"
        },
        {
         "name": "ground-speed",
         "rawType": "float64",
         "type": "float"
        },
        {
         "name": "heading",
         "rawType": "float64",
         "type": "float"
        },
        {
         "name": "height-above-msl",
         "rawType": "float64",
         "type": "float"
        },
        {
         "name": "manually-marked-outlier",
         "rawType": "object",
         "type": "unknown"
        },
        {
         "name": "tag-voltage",
         "rawType": "float64",
         "type": "float"
        },
        {
         "name": "sensor-type",
         "rawType": "object",
         "type": "string"
        },
        {
         "name": "individual-taxon-canonical-name",
         "rawType": "object",
         "type": "string"
        },
        {
         "name": "tag-local-identifier",
         "rawType": "object",
         "type": "string"
        },
        {
         "name": "individual-local-identifier",
         "rawType": "int64",
         "type": "integer"
        },
        {
         "name": "study-name",
         "rawType": "object",
         "type": "string"
        }
       ],
       "conversionMethod": "pd.DataFrame",
       "ref": "54b23083-013a-4c11-af8c-d61362b71ed8",
       "rows": [
        [
         "0",
         "2356091477",
         "True",
         "2014-08-09 08:28:09.000",
         "110.218422",
         "48.126228",
         "3",
         "3.5",
         "12.346666666666668",
         null,
         "1215.0",
         null,
         "3.66",
         "gps",
         "Grus vipio",
         "89460800120027233186",
         "27233186",
         "White-naped crane Mongolia WSCC"
        ],
        [
         "1",
         "2356091577",
         "True",
         "2014-08-09 08:59:09.000",
         "110.335327",
         "48.204704",
         "3",
         "1.7",
         "12.346666666666668",
         null,
         "1241.0",
         null,
         "3.65",
         "gps",
         "Grus vipio",
         "89460800120027233186",
         "27233186",
         "White-naped crane Mongolia WSCC"
        ],
        [
         "2",
         "2356091532",
         "True",
         "2014-08-09 09:27:39.000",
         "110.354172",
         "48.295742",
         "3",
         "4.5",
         "0.5144444444444445",
         null,
         "909.0",
         null,
         "3.66",
         "gps",
         "Grus vipio",
         "89460800120027233186",
         "27233186",
         "White-naped crane Mongolia WSCC"
        ],
        [
         "3",
         "2356091482",
         "True",
         "2014-08-09 09:58:09.000",
         "110.3535",
         "48.298092",
         "3",
         "2.5",
         "0.0",
         null,
         "1010.0",
         null,
         "3.66",
         "gps",
         "Grus vipio",
         "89460800120027233186",
         "27233186",
         "White-naped crane Mongolia WSCC"
        ],
        [
         "4",
         "2356091504",
         "True",
         "2014-08-09 10:29:09.000",
         "110.354248",
         "48.297897",
         "3",
         "2.9",
         "0.0",
         null,
         "1133.0",
         null,
         "3.65",
         "gps",
         "Grus vipio",
         "89460800120027233186",
         "27233186",
         "White-naped crane Mongolia WSCC"
        ]
       ],
       "shape": {
        "columns": 17,
        "rows": 5
       }
      },
      "text/html": [
       "<div>\n",
       "<style scoped>\n",
       "    .dataframe tbody tr th:only-of-type {\n",
       "        vertical-align: middle;\n",
       "    }\n",
       "\n",
       "    .dataframe tbody tr th {\n",
       "        vertical-align: top;\n",
       "    }\n",
       "\n",
       "    .dataframe thead th {\n",
       "        text-align: right;\n",
       "    }\n",
       "</style>\n",
       "<table border=\"1\" class=\"dataframe\">\n",
       "  <thead>\n",
       "    <tr style=\"text-align: right;\">\n",
       "      <th></th>\n",
       "      <th>event-id</th>\n",
       "      <th>visible</th>\n",
       "      <th>timestamp</th>\n",
       "      <th>location-long</th>\n",
       "      <th>location-lat</th>\n",
       "      <th>gps:fix-type</th>\n",
       "      <th>gps:hdop</th>\n",
       "      <th>ground-speed</th>\n",
       "      <th>heading</th>\n",
       "      <th>height-above-msl</th>\n",
       "      <th>manually-marked-outlier</th>\n",
       "      <th>tag-voltage</th>\n",
       "      <th>sensor-type</th>\n",
       "      <th>individual-taxon-canonical-name</th>\n",
       "      <th>tag-local-identifier</th>\n",
       "      <th>individual-local-identifier</th>\n",
       "      <th>study-name</th>\n",
       "    </tr>\n",
       "  </thead>\n",
       "  <tbody>\n",
       "    <tr>\n",
       "      <th>0</th>\n",
       "      <td>2356091477</td>\n",
       "      <td>True</td>\n",
       "      <td>2014-08-09 08:28:09.000</td>\n",
       "      <td>110.218422</td>\n",
       "      <td>48.126228</td>\n",
       "      <td>3</td>\n",
       "      <td>3.5</td>\n",
       "      <td>12.346667</td>\n",
       "      <td>NaN</td>\n",
       "      <td>1215.0</td>\n",
       "      <td>NaN</td>\n",
       "      <td>3.66</td>\n",
       "      <td>gps</td>\n",
       "      <td>Grus vipio</td>\n",
       "      <td>89460800120027233186</td>\n",
       "      <td>27233186</td>\n",
       "      <td>White-naped crane Mongolia WSCC</td>\n",
       "    </tr>\n",
       "    <tr>\n",
       "      <th>1</th>\n",
       "      <td>2356091577</td>\n",
       "      <td>True</td>\n",
       "      <td>2014-08-09 08:59:09.000</td>\n",
       "      <td>110.335327</td>\n",
       "      <td>48.204704</td>\n",
       "      <td>3</td>\n",
       "      <td>1.7</td>\n",
       "      <td>12.346667</td>\n",
       "      <td>NaN</td>\n",
       "      <td>1241.0</td>\n",
       "      <td>NaN</td>\n",
       "      <td>3.65</td>\n",
       "      <td>gps</td>\n",
       "      <td>Grus vipio</td>\n",
       "      <td>89460800120027233186</td>\n",
       "      <td>27233186</td>\n",
       "      <td>White-naped crane Mongolia WSCC</td>\n",
       "    </tr>\n",
       "    <tr>\n",
       "      <th>2</th>\n",
       "      <td>2356091532</td>\n",
       "      <td>True</td>\n",
       "      <td>2014-08-09 09:27:39.000</td>\n",
       "      <td>110.354172</td>\n",
       "      <td>48.295742</td>\n",
       "      <td>3</td>\n",
       "      <td>4.5</td>\n",
       "      <td>0.514444</td>\n",
       "      <td>NaN</td>\n",
       "      <td>909.0</td>\n",
       "      <td>NaN</td>\n",
       "      <td>3.66</td>\n",
       "      <td>gps</td>\n",
       "      <td>Grus vipio</td>\n",
       "      <td>89460800120027233186</td>\n",
       "      <td>27233186</td>\n",
       "      <td>White-naped crane Mongolia WSCC</td>\n",
       "    </tr>\n",
       "    <tr>\n",
       "      <th>3</th>\n",
       "      <td>2356091482</td>\n",
       "      <td>True</td>\n",
       "      <td>2014-08-09 09:58:09.000</td>\n",
       "      <td>110.353500</td>\n",
       "      <td>48.298092</td>\n",
       "      <td>3</td>\n",
       "      <td>2.5</td>\n",
       "      <td>0.000000</td>\n",
       "      <td>NaN</td>\n",
       "      <td>1010.0</td>\n",
       "      <td>NaN</td>\n",
       "      <td>3.66</td>\n",
       "      <td>gps</td>\n",
       "      <td>Grus vipio</td>\n",
       "      <td>89460800120027233186</td>\n",
       "      <td>27233186</td>\n",
       "      <td>White-naped crane Mongolia WSCC</td>\n",
       "    </tr>\n",
       "    <tr>\n",
       "      <th>4</th>\n",
       "      <td>2356091504</td>\n",
       "      <td>True</td>\n",
       "      <td>2014-08-09 10:29:09.000</td>\n",
       "      <td>110.354248</td>\n",
       "      <td>48.297897</td>\n",
       "      <td>3</td>\n",
       "      <td>2.9</td>\n",
       "      <td>0.000000</td>\n",
       "      <td>NaN</td>\n",
       "      <td>1133.0</td>\n",
       "      <td>NaN</td>\n",
       "      <td>3.65</td>\n",
       "      <td>gps</td>\n",
       "      <td>Grus vipio</td>\n",
       "      <td>89460800120027233186</td>\n",
       "      <td>27233186</td>\n",
       "      <td>White-naped crane Mongolia WSCC</td>\n",
       "    </tr>\n",
       "  </tbody>\n",
       "</table>\n",
       "</div>"
      ],
      "text/plain": [
       "     event-id  visible                timestamp  location-long  location-lat  \\\n",
       "0  2356091477     True  2014-08-09 08:28:09.000     110.218422     48.126228   \n",
       "1  2356091577     True  2014-08-09 08:59:09.000     110.335327     48.204704   \n",
       "2  2356091532     True  2014-08-09 09:27:39.000     110.354172     48.295742   \n",
       "3  2356091482     True  2014-08-09 09:58:09.000     110.353500     48.298092   \n",
       "4  2356091504     True  2014-08-09 10:29:09.000     110.354248     48.297897   \n",
       "\n",
       "   gps:fix-type  gps:hdop  ground-speed  heading  height-above-msl  \\\n",
       "0             3       3.5     12.346667      NaN            1215.0   \n",
       "1             3       1.7     12.346667      NaN            1241.0   \n",
       "2             3       4.5      0.514444      NaN             909.0   \n",
       "3             3       2.5      0.000000      NaN            1010.0   \n",
       "4             3       2.9      0.000000      NaN            1133.0   \n",
       "\n",
       "  manually-marked-outlier  tag-voltage sensor-type  \\\n",
       "0                     NaN         3.66         gps   \n",
       "1                     NaN         3.65         gps   \n",
       "2                     NaN         3.66         gps   \n",
       "3                     NaN         3.66         gps   \n",
       "4                     NaN         3.65         gps   \n",
       "\n",
       "  individual-taxon-canonical-name  tag-local-identifier  \\\n",
       "0                      Grus vipio  89460800120027233186   \n",
       "1                      Grus vipio  89460800120027233186   \n",
       "2                      Grus vipio  89460800120027233186   \n",
       "3                      Grus vipio  89460800120027233186   \n",
       "4                      Grus vipio  89460800120027233186   \n",
       "\n",
       "   individual-local-identifier                       study-name  \n",
       "0                     27233186  White-naped crane Mongolia WSCC  \n",
       "1                     27233186  White-naped crane Mongolia WSCC  \n",
       "2                     27233186  White-naped crane Mongolia WSCC  \n",
       "3                     27233186  White-naped crane Mongolia WSCC  \n",
       "4                     27233186  White-naped crane Mongolia WSCC  "
      ]
     },
     "execution_count": 14,
     "metadata": {},
     "output_type": "execute_result"
    }
   ],
   "source": [
    "df.head()"
   ]
  },
  {
   "cell_type": "code",
   "execution_count": null,
   "metadata": {},
   "outputs": [],
   "source": [
    "df_clean = df[df['manually-marked-outlier'] != True]\n"
   ]
  },
  {
   "cell_type": "code",
   "execution_count": 18,
   "metadata": {},
   "outputs": [],
   "source": [
    "import geopandas as gpd\n",
    "from shapely.geometry import Point\n",
    "\n",
    "# Create a GeoDataFrame from the DataFrame\n",
    "geometry = [Point(xy) for xy in zip(df_clean['location-long'], df_clean['location-lat'])]\n",
    "gdf = gpd.GeoDataFrame(df_clean, geometry=geometry)\n",
    "\n",
    "# Set the coordinate reference system (CRS) to WGS84 (EPSG:4326)\n",
    "gdf.set_crs(epsg=4326, inplace=True)\n",
    "\n",
    "# Drop rows with NaN values in 'location-lat' and 'location-long' columns\n",
    "df_clean = gdf.dropna(subset=['location-lat', 'location-long'])\n"
   ]
  },
  {
   "cell_type": "code",
   "execution_count": null,
   "metadata": {},
   "outputs": [],
   "source": [
    "import folium\n",
    "import matplotlib.pyplot as plt\n",
    "from matplotlib.colors import rgb2hex\n",
    "\n",
    "\n",
    "# Create a map centered around the mean location\n",
    "mean_lat = df_clean['location-lat'].mean()\n",
    "mean_lon = df_clean['location-long'].mean()\n",
    "m = folium.Map(location=[mean_lat, mean_lon], zoom_start=5)  # Adjusted zoom level\n",
    "\n",
    "# Group the data by individual-local-identifier\n",
    "grouped = df_clean.groupby('individual-local-identifier')\n",
    "\n",
    "# Generate a color map\n",
    "colors = plt.cm.get_cmap('tab20', len(grouped))\n",
    "color_map = {name: colors(i) for i, name in enumerate(grouped.groups.keys())}\n",
    "\n",
    "# Add polylines and circle markers for each individual\n",
    "for name, group in grouped:\n",
    "    color = rgb2hex(color_map[name])\n",
    "    locations = group.sort_values('timestamp')[['location-lat', 'location-long']].values.tolist()\n",
    "    folium.PolyLine(locations, color=color, weight=2.5, opacity=1).add_to(m)\n",
    "    for idx, row in group.iterrows():\n",
    "        folium.CircleMarker(\n",
    "            location=[row['location-lat'], row['location-long']],\n",
    "            radius=1,\n",
    "            color=color,\n",
    "            fill=True,\n",
    "            fill_color=color,\n",
    "        ).add_to(m)\n",
    "\n",
    "# Add a different tile layer\n",
    "folium.TileLayer('CartoDB positron', attr='Map data © OpenStreetMap contributors').add_to(m)\n",
    "\n",
    "# Add layer control\n",
    "folium.LayerControl().add_to(m)\n",
    "\n",
    "# Display the map\n",
    "m"
   ]
  }
 ],
 "metadata": {
  "colab": {
   "authorship_tag": "ABX9TyO95VYBt34k8F0wixXCbBYU",
   "mount_file_id": "https://github.com/fiorellaguillen/CASA0025/blob/main/elephant_tracking.ipynb",
   "provenance": [
    {
     "file_id": "https://github.com/fiorellaguillen/CASA0025/blob/main/elephant_tracking.ipynb",
     "timestamp": 1742326881779
    }
   ]
  },
  "kernelspec": {
   "display_name": "urbsim",
   "language": "python",
   "name": "urbsim"
  },
  "language_info": {
   "codemirror_mode": {
    "name": "ipython",
    "version": 3
   },
   "file_extension": ".py",
   "mimetype": "text/x-python",
   "name": "python",
   "nbconvert_exporter": "python",
   "pygments_lexer": "ipython3",
   "version": "3.12.8"
  },
  "widgets": {
   "application/vnd.jupyter.widget-state+json": {
    "23fe7f3b4dc04aa9aedcd1e3c00c3238": {
     "model_module": "@jupyter-widgets/controls",
     "model_module_version": "1.5.0",
     "model_name": "FloatProgressModel",
     "state": {
      "_dom_classes": [],
      "_model_module": "@jupyter-widgets/controls",
      "_model_module_version": "1.5.0",
      "_model_name": "FloatProgressModel",
      "_view_count": null,
      "_view_module": "@jupyter-widgets/controls",
      "_view_module_version": "1.5.0",
      "_view_name": "ProgressView",
      "bar_style": "",
      "description": "",
      "description_tooltip": null,
      "layout": "IPY_MODEL_ae235e3d2c9e4d799afa495a2b296408",
      "max": 100,
      "min": 0,
      "orientation": "horizontal",
      "style": "IPY_MODEL_5db75c29572f4500a0d4adba97b499b2",
      "value": 100
     }
    },
    "5db75c29572f4500a0d4adba97b499b2": {
     "model_module": "@jupyter-widgets/controls",
     "model_module_version": "1.5.0",
     "model_name": "ProgressStyleModel",
     "state": {
      "_model_module": "@jupyter-widgets/controls",
      "_model_module_version": "1.5.0",
      "_model_name": "ProgressStyleModel",
      "_view_count": null,
      "_view_module": "@jupyter-widgets/base",
      "_view_module_version": "1.2.0",
      "_view_name": "StyleView",
      "bar_color": "black",
      "description_width": ""
     }
    },
    "6a750ea77e0f4bd1822b1b97a77784d1": {
     "model_module": "@jupyter-widgets/controls",
     "model_module_version": "1.5.0",
     "model_name": "ProgressStyleModel",
     "state": {
      "_model_module": "@jupyter-widgets/controls",
      "_model_module_version": "1.5.0",
      "_model_name": "ProgressStyleModel",
      "_view_count": null,
      "_view_module": "@jupyter-widgets/base",
      "_view_module_version": "1.2.0",
      "_view_name": "StyleView",
      "bar_color": "black",
      "description_width": ""
     }
    },
    "9f8b433e55c44f889cc626a60aa31b32": {
     "model_module": "@jupyter-widgets/controls",
     "model_module_version": "1.5.0",
     "model_name": "FloatProgressModel",
     "state": {
      "_dom_classes": [],
      "_model_module": "@jupyter-widgets/controls",
      "_model_module_version": "1.5.0",
      "_model_name": "FloatProgressModel",
      "_view_count": null,
      "_view_module": "@jupyter-widgets/controls",
      "_view_module_version": "1.5.0",
      "_view_name": "ProgressView",
      "bar_style": "",
      "description": "",
      "description_tooltip": null,
      "layout": "IPY_MODEL_c8cd21db2d0c46b2bd34e7fdc1423230",
      "max": 100,
      "min": 0,
      "orientation": "horizontal",
      "style": "IPY_MODEL_6a750ea77e0f4bd1822b1b97a77784d1",
      "value": 100
     }
    },
    "ae235e3d2c9e4d799afa495a2b296408": {
     "model_module": "@jupyter-widgets/base",
     "model_module_version": "1.2.0",
     "model_name": "LayoutModel",
     "state": {
      "_model_module": "@jupyter-widgets/base",
      "_model_module_version": "1.2.0",
      "_model_name": "LayoutModel",
      "_view_count": null,
      "_view_module": "@jupyter-widgets/base",
      "_view_module_version": "1.2.0",
      "_view_name": "LayoutView",
      "align_content": null,
      "align_items": null,
      "align_self": null,
      "border": null,
      "bottom": null,
      "display": null,
      "flex": null,
      "flex_flow": null,
      "grid_area": null,
      "grid_auto_columns": null,
      "grid_auto_flow": null,
      "grid_auto_rows": null,
      "grid_column": null,
      "grid_gap": null,
      "grid_row": null,
      "grid_template_areas": null,
      "grid_template_columns": null,
      "grid_template_rows": null,
      "height": null,
      "justify_content": null,
      "justify_items": null,
      "left": null,
      "margin": null,
      "max_height": null,
      "max_width": null,
      "min_height": null,
      "min_width": null,
      "object_fit": null,
      "object_position": null,
      "order": null,
      "overflow": null,
      "overflow_x": null,
      "overflow_y": null,
      "padding": null,
      "right": null,
      "top": null,
      "visibility": null,
      "width": "auto"
     }
    },
    "c8cd21db2d0c46b2bd34e7fdc1423230": {
     "model_module": "@jupyter-widgets/base",
     "model_module_version": "1.2.0",
     "model_name": "LayoutModel",
     "state": {
      "_model_module": "@jupyter-widgets/base",
      "_model_module_version": "1.2.0",
      "_model_name": "LayoutModel",
      "_view_count": null,
      "_view_module": "@jupyter-widgets/base",
      "_view_module_version": "1.2.0",
      "_view_name": "LayoutView",
      "align_content": null,
      "align_items": null,
      "align_self": null,
      "border": null,
      "bottom": null,
      "display": null,
      "flex": null,
      "flex_flow": null,
      "grid_area": null,
      "grid_auto_columns": null,
      "grid_auto_flow": null,
      "grid_auto_rows": null,
      "grid_column": null,
      "grid_gap": null,
      "grid_row": null,
      "grid_template_areas": null,
      "grid_template_columns": null,
      "grid_template_rows": null,
      "height": null,
      "justify_content": null,
      "justify_items": null,
      "left": null,
      "margin": null,
      "max_height": null,
      "max_width": null,
      "min_height": null,
      "min_width": null,
      "object_fit": null,
      "object_position": null,
      "order": null,
      "overflow": null,
      "overflow_x": null,
      "overflow_y": null,
      "padding": null,
      "right": null,
      "top": null,
      "visibility": null,
      "width": "auto"
     }
    }
   }
  }
 },
 "nbformat": 4,
 "nbformat_minor": 0
}
